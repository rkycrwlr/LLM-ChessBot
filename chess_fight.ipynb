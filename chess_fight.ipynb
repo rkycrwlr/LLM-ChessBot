{
 "cells": [
  {
   "cell_type": "code",
   "execution_count": 66,
   "metadata": {},
   "outputs": [],
   "source": [
    "from transformer import GPT\n",
    "from utils import CfgNode as CN\n",
    "import json\n",
    "import torch\n",
    "from safetensors.torch import load_model\n",
    "import re\n",
    "import chess\n",
    "from stockfish import Stockfish\n",
    "from IPython.display import display, clear_output\n",
    "import pickle\n",
    "import time"
   ]
  },
  {
   "cell_type": "code",
   "execution_count": null,
   "metadata": {},
   "outputs": [],
   "source": [
    "conf = 'config.json'\n",
    "meta = 'meta.pkl'\n",
    "\n",
    "C = CN()\n",
    "\n",
    "with open(conf) as f:\n",
    "    config = json.load(f)\n",
    "\n",
    "with open(meta, 'rb') as f:\n",
    "    meta = pickle.load(f)\n",
    "\n",
    "C.n_layer = config[\"n_layer\"]\n",
    "C.n_embd = config[\"n_embd\"]\n",
    "C.n_head = config[\"n_head\"]\n",
    "C.embd_pdrop = config[\"embd_pdrop\"]\n",
    "C.resid_pdrop = config[\"resid_pdrop\"]\n",
    "C.attn_pdrop = config[\"attn_pdrop\"]\n",
    "C.block_size = 768\n",
    "C.vocab_size = meta['vocab_size']\n",
    "\n",
    "stoi = meta['stoi']\n",
    "itos = meta['itos']\n",
    "\n",
    "def encode(s):\n",
    "    return [stoi[c] for c in s]\n",
    "def decode(l):\n",
    "    return ''.join([itos[i] for i in l])"
   ]
  },
  {
   "cell_type": "code",
   "execution_count": null,
   "metadata": {},
   "outputs": [],
   "source": [
    "model = GPT(C).eval()\n",
    "load_model(model, \"out/final.pt/model.safetensors\")"
   ]
  },
  {
   "cell_type": "code",
   "execution_count": 68,
   "metadata": {},
   "outputs": [],
   "source": [
    "def get_next_llm(history, round_number):\n",
    "    encoded_text = torch.tensor(encode(history), dtype=torch.int64).unsqueeze(0)\n",
    "    output = model.generate(encoded_text, 10, do_sample=True).squeeze()\n",
    "    decoded_text = decode(output.tolist())\n",
    "    match = re.search(fr\"{round_number}\\.(\\S*) \", decoded_text)\n",
    "    new_move = match.group(1).strip()\n",
    "    return new_move\n",
    "\n",
    "def get_next_stockfish(next_move):\n",
    "    try:\n",
    "        board_move = board.parse_san(next_move)\n",
    "        check = True \n",
    "    except Exception as err:\n",
    "        print(f\"Illegal move {err=}, {type(err)=}\")\n",
    "        check = False\n",
    "    if check:\n",
    "        board.push(board_move)\n",
    "        stockfish.make_moves_from_current_position([ board_move ])\n",
    "        best = stockfish.get_best_move()\n",
    "        stockfish.make_moves_from_current_position([ best ])\n",
    "        move = chess.Move.from_uci(best)\n",
    "        st_san = board.san(move)\n",
    "        board.push(move)\n",
    "        clear_output()\n",
    "        return (next_move, st_san)\n",
    "    else:\n",
    "        print(f\"{next_move} is not correct\")\n",
    "        return (next_move, None)\n",
    "    "
   ]
  },
  {
   "cell_type": "code",
   "execution_count": 69,
   "metadata": {},
   "outputs": [],
   "source": [
    "class ChessFight:\n",
    "    def __init__(self, model, elo=1500):\n",
    "        self.model = model\n",
    "        self.history = \"1.\"\n",
    "        self.board = chess.Board()\n",
    "        self.stockfish = Stockfish(\n",
    "            path=\"/usr/games/stockfish\",\n",
    "            depth=3,\n",
    "            parameters={\n",
    "                \"Threads\": 2,\n",
    "                \"Minimum Thinking Time\": 30,\n",
    "                \"UCI_Elo\": elo,\n",
    "                },\n",
    "            )"
   ]
  },
  {
   "cell_type": "code",
   "execution_count": null,
   "metadata": {},
   "outputs": [],
   "source": [
    "board = chess.Board()\n",
    "\n",
    "elo = 1500\n",
    "stockfish = Stockfish(\n",
    "    path=\"/usr/games/stockfish\",\n",
    "    depth=3,\n",
    "    parameters={\n",
    "        \"Threads\": 2,\n",
    "        \"Minimum Thinking Time\": 30,\n",
    "        \"UCI_Elo\": elo,\n",
    "        },\n",
    ")\n",
    "history = \";3#1-0#1.\"\n",
    "round_number = 1\n",
    "play = True\n",
    "\n",
    "while play:\n",
    "    move_stockfish = None\n",
    "    while not move_stockfish:\n",
    "        next_move = get_next_llm(history, round_number)\n",
    "        _, move_stockfish = get_next_stockfish(next_move)\n",
    "        if move_stockfish and move_stockfish[-1] == \"#\":\n",
    "            play = False\n",
    "            break\n",
    "    round_number += 1\n",
    "    history = f\"{history}{next_move} {move_stockfish} {round_number}.\"\n",
    "    display(board)\n",
    "    time.sleep(0.5)\n",
    "\n",
    "print(history)"
   ]
  }
 ],
 "metadata": {
  "kernelspec": {
   "display_name": "base",
   "language": "python",
   "name": "python3"
  },
  "language_info": {
   "codemirror_mode": {
    "name": "ipython",
    "version": 3
   },
   "file_extension": ".py",
   "mimetype": "text/x-python",
   "name": "python",
   "nbconvert_exporter": "python",
   "pygments_lexer": "ipython3",
   "version": "3.12.8"
  }
 },
 "nbformat": 4,
 "nbformat_minor": 2
}
