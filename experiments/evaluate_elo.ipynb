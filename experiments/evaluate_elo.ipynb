{
 "cells": [
  {
   "cell_type": "code",
   "execution_count": 1,
   "metadata": {},
   "outputs": [
    {
     "name": "stdout",
     "output_type": "stream",
     "text": [
      "/workspace/work/MVA/LLM/chess_bot\n"
     ]
    },
    {
     "name": "stderr",
     "output_type": "stream",
     "text": [
      "/opt/conda/lib/python3.12/site-packages/IPython/core/magics/osm.py:417: UserWarning: This is now an optional IPython functionality, setting dhist requires you to install the `pickleshare` library.\n",
      "  self.shell.db['dhist'] = compress_dhist(dhist)[-100:]\n"
     ]
    }
   ],
   "source": [
    "%cd .."
   ]
  },
  {
   "cell_type": "code",
   "execution_count": 2,
   "metadata": {},
   "outputs": [],
   "source": [
    "from src.valid_chess import GPT_valid_chess\n",
    "from src.utils import CfgNode as CN\n",
    "import json\n",
    "import torch\n",
    "from safetensors.torch import load_model, save_model\n",
    "import re\n",
    "import chess\n",
    "from stockfish import Stockfish\n",
    "from IPython.display import display, clear_output\n",
    "import numpy as np\n",
    "conf = 'config.json'"
   ]
  },
  {
   "cell_type": "code",
   "execution_count": 2,
   "metadata": {},
   "outputs": [
    {
     "name": "stdout",
     "output_type": "stream",
     "text": [
      "number of parameters: 50.85M\n"
     ]
    },
    {
     "data": {
      "text/plain": [
       "(set(), [])"
      ]
     },
     "execution_count": 2,
     "metadata": {},
     "output_type": "execute_result"
    }
   ],
   "source": [
    "C = CN()\n",
    "\n",
    "with open(conf) as f:\n",
    "    config = json.load(f)\n",
    "\n",
    "C.n_layer = config[\"n_layer\"]\n",
    "C.n_embd = config[\"n_embd\"]\n",
    "C.n_head = config[\"n_head\"]\n",
    "C.embd_pdrop = config[\"embd_pdrop\"]\n",
    "C.resid_pdrop = config[\"resid_pdrop\"]\n",
    "C.attn_pdrop = config[\"attn_pdrop\"]\n",
    "C.block_size = 768\n",
    "\n",
    "chars = ['0', '5', '2', 'Q', 'e', 'a', 'R', 'd', '9', '8', '1', 'N', 'x', 'f', '6', '+', 'c', '=', 'h', 'O', 'B', '.', '7', '/', '4', '3', '*', 'b', '-', ' ', 'K', 'g', '#', ';', '[PAD]']\n",
    "\n",
    "# create a mapping from characters to integers\n",
    "stoi = { ch:i for i,ch in enumerate(chars) }\n",
    "itos = { i:ch for i,ch in enumerate(chars) }\n",
    "def encode(s):\n",
    "    return [stoi[c] for c in s] # encoder: take a string, output a list of integers\n",
    "def decode(l):\n",
    "    return ''.join([itos[i] for i in l]) # decoder: take a list of integers, output a string\n",
    "\n",
    "C.vocab_size = len(stoi)\n",
    "C.vocabulary = chars\n",
    "\n",
    "model = GPT_valid_chess(C).eval()\n",
    "load_model(model, \"models/stockfish-16/model.safetensors\")"
   ]
  },
  {
   "cell_type": "code",
   "execution_count": null,
   "metadata": {},
   "outputs": [],
   "source": [
    "def get_next_llm(history, round_number, temp):\n",
    "    encoded_text = torch.tensor(encode(history), dtype=torch.int64).unsqueeze(0)\n",
    "    output = model.generate_valid_chess_move(encoded_text, board, 10, do_sample=True, temperature=temp).squeeze()\n",
    "    decoded_text = decode(output.tolist())\n",
    "    match = re.search(fr\"{round_number}\\.([a-zA-Z0-9-\\+\\#\\=]*)\", decoded_text)\n",
    "    new_move = match.group(1).strip()\n",
    "    return new_move\n",
    "\n",
    "def get_next_llm_kv(history, round_number, kv_cache, temp):\n",
    "    encoded_text = torch.tensor(encode(history), dtype=torch.int64).unsqueeze(0)\n",
    "    output, kv_cache = model.generate(encoded_text, 10, do_sample=True, temperature=temp, kv_cache=kv_cache, return_kv_cache=True)\n",
    "    output = output.squeeze()\n",
    "    decoded_text = decode(output.tolist())\n",
    "    match = re.search(fr\"{round_number}\\.([a-zA-Z0-9-\\+\\#\\=]*)\", decoded_text)\n",
    "    new_move = match.group(1).strip()\n",
    "    return new_move, kv_cache\n",
    "\n",
    "def get_next_stockfish(next_move):\n",
    "    try:\n",
    "        board_move = board.parse_san(next_move)\n",
    "        check = True \n",
    "    except Exception as err:\n",
    "        print(f\"Illegal move {err=}, {type(err)=}\")\n",
    "        check = False\n",
    "    if check:\n",
    "        board.push(board_move)\n",
    "        if board.is_checkmate():\n",
    "            print(\"Checkmate!\")\n",
    "            return (next_move, None, 2)\n",
    "        if board.is_stalemate():\n",
    "            print(\"Stalemate!\")\n",
    "            return (next_move, None, 1)\n",
    "        stockfish.make_moves_from_current_position([ board_move ])\n",
    "        best = stockfish.get_best_move()\n",
    "        stockfish.make_moves_from_current_position([ best ])\n",
    "        move = chess.Move.from_uci(best)\n",
    "        st_san = board.san(move)\n",
    "        board.push(move)\n",
    "        if board.is_checkmate():\n",
    "            print(\"Checkmate!\")\n",
    "            return (next_move, None, 3)\n",
    "        if board.is_stalemate():\n",
    "            print(\"Stalemate!\")\n",
    "            return (next_move, None, 1)\n",
    "        clear_output()\n",
    "        return (next_move, st_san, 0)\n",
    "    else:\n",
    "        print(f\"{next_move} is not correct\")\n",
    "        return (next_move, None, -1)"
   ]
  },
  {
   "cell_type": "code",
   "execution_count": null,
   "metadata": {},
   "outputs": [],
   "source": [
    "import time\n",
    "from tqdm import tqdm\n",
    "temperatures = [0.01, 0.5, 1.0]\n",
    "for temp in temperatures:\n",
    "    elos = [1100, 1200, 1300, 1400, 1500, 1600, 1700, 1800, 1900, 2000, 2100, 2200, 2300, 2400, 2500, 2600, 2700, 2800, 2900, 3000, 3200]\n",
    "    N = 40\n",
    "    n_w = [0]*len(elos)\n",
    "    n_l = [0]*len(elos)\n",
    "    n_d = [0]*len(elos)\n",
    "    n_p = [0]*len(elos)\n",
    "    number_of_rounds = [[]]*len(elos)\n",
    "    for s_i, elo in tqdm(enumerate(elos), total=len(elos)):\n",
    "        for _ in tqdm(range(N)):\n",
    "            board = chess.Board()\n",
    "            stockfish = Stockfish(\n",
    "                path=\"/home/infres/nvernier-22/bin/stockfish\",#this line should be mofified!\n",
    "                depth=3,\n",
    "                parameters={\n",
    "                    \"Threads\": 2,\n",
    "                    \"Minimum Thinking Time\": 30,\n",
    "                    \"UCI_Elo\": elo,\n",
    "                    },\n",
    "            )\n",
    "            history = \";1-0#1.\"\n",
    "            round_number = 1\n",
    "            play = True\n",
    "            with_kv_cache = False\n",
    "            kv_cache = None\n",
    "\n",
    "            times = []\n",
    "            t = time.time()\n",
    "\n",
    "            illegal_count = 0\n",
    "            while play:\n",
    "                move_stockfish = None\n",
    "                while not move_stockfish:\n",
    "                    # print(\"round number:\",round_number)\n",
    "                    next_move = get_next_llm(history, round_number, temp)\n",
    "                    # print(\"LLM move:\",next_move)\n",
    "                    _, move_stockfish, game_val = get_next_stockfish(next_move)\n",
    "                    # print(\"Stockfish move:\",move_stockfish)\n",
    "                    if game_val == 3:\n",
    "                        play = False\n",
    "                        print(\"Stockfish Won\")\n",
    "                        n_l[s_i] += 1\n",
    "                        break\n",
    "                    if game_val == 2:\n",
    "                        play = False\n",
    "                        print(\"ChessLLM Won\")\n",
    "                        n_w[s_i] += 1\n",
    "                        break\n",
    "                    if game_val == 1:\n",
    "                        play = False\n",
    "                        print(\"No Winner\")\n",
    "                        n_d[s_i] += 1\n",
    "                        break\n",
    "                    if game_val == -1:\n",
    "                        print(\"Illegal move\")\n",
    "                        illegal_count += 1\n",
    "\n",
    "                    if round_number > 80 or illegal_count > 10:\n",
    "                        play = False\n",
    "                        print(\"Too many rounds\")\n",
    "                        n_p[s_i] += 1\n",
    "                        break\n",
    "\n",
    "                round_number += 1\n",
    "                if game_val == 0:\n",
    "                    history = f\"{history}{next_move} {move_stockfish} {round_number}.\"\n",
    "                if game_val == 2:\n",
    "                    history = f\"{history}{next_move}\"\n",
    "                if game_val == 3:\n",
    "                    history = f\"{history}{next_move} {move_stockfish}\"\n",
    "                # display(board)\n",
    "                times.append(time.time() - t)\n",
    "                t = time.time()\n",
    "            number_of_rounds[s_i].append(round_number)\n",
    "    print(n_w)\n",
    "    print(n_l)\n",
    "    print(n_d)\n",
    "    print(n_p)\n",
    "    print(number_of_rounds)\n",
    "    np.save(f\"results/n_w_temp_{temp}.npy\", n_w)\n",
    "    np.save(f\"results/n_l_temp_{temp}.npy\", n_l)\n",
    "    np.save(f\"results/n_d_temp_{temp}.npy\", n_d)\n",
    "    np.save(f\"results/n_p_temp_{temp}.npy\", n_p)\n",
    "    np.save(f\"results/number_of_rounds_temp_{temp}.npy\", number_of_rounds)"
   ]
  },
  {
   "cell_type": "code",
   "execution_count": 3,
   "metadata": {},
   "outputs": [
    {
     "data": {
      "image/png": "[encoded data removed]",
      "text/plain": [
       "<Figure size 1200x600 with 1 Axes>"
      ]
     },
     "metadata": {},
     "output_type": "display_data"
    }
   ],
   "source": [
    "import numpy as np\n",
    "import matplotlib.pyplot as plt\n",
    "\n",
    "temps = [0.01, 0.1, 0.5, 1.0]\n",
    "elos = [1100, 1200, 1300, 1400, 1500, 1600, 1700, 1800, 1900, 2000, \n",
    "        2100, 2200, 2300, 2400, 2500, 2600, 2700, 2800, 2900, 3000, 3200]\n",
    "\n",
    "bar_width = 0.15\n",
    "offset = [-1.5*bar_width, -0.5*bar_width, 0.5*bar_width, 1.5*bar_width] \n",
    "colors = ['#A8D5BA', '#D3D3D3', '#E59866', '#FFB347']\n",
    "labels = ['T=0.01', 'T=0.1', 'T=0.5', 'T=1.0']\n",
    "\n",
    "fig, ax = plt.subplots(figsize=(12, 6))\n",
    "\n",
    "for i, temp in enumerate(temps):\n",
    "    # Load data\n",
    "    wins_white = np.load(f\"results/n_w_temp_{temp}.npy\")\n",
    "    wins_black = np.load(f\"results/n_l_temp_{temp}.npy\")\n",
    "    draws = np.load(f\"results/n_d_temp_{temp}.npy\")\n",
    "    n_problems = np.load(f\"results/n_p_temp_{temp}.npy\")\n",
    "    \n",
    "    bar_positions = np.arange(len(elos)) + offset[i] \n",
    "    \n",
    "    ax.bar(bar_positions, wins_white, bar_width, label=f'White Wins ({labels[i]})', color=colors[0], alpha=0.7)\n",
    "    ax.bar(bar_positions, draws, bar_width, bottom=wins_white, color=colors[1], alpha=0.7)\n",
    "    ax.bar(bar_positions, n_problems, bar_width, bottom=np.array(wins_white) + np.array(draws), color='#6C5B7B', alpha=0.7)\n",
    "    ax.bar(bar_positions, wins_black, bar_width, bottom=np.array(wins_white) + np.array(draws) + np.array(n_problems), color=colors[2], alpha=0.7)\n",
    "\n",
    "ax.set_xticks(np.arange(len(elos)))\n",
    "ax.set_xticklabels(elos, rotation=45)\n",
    "ax.set_xlabel(\"Elo\")\n",
    "ax.set_ylabel(\"Number of games / problems\")\n",
    "ax.set_title(\"Game results and number of problems per Elo for different temperatures\")\n",
    "\n",
    "plt.show()"
   ]
  }
 ],
 "metadata": {
  "kernelspec": {
   "display_name": "base",
   "language": "python",
   "name": "python3"
  },
  "language_info": {
   "codemirror_mode": {
    "name": "ipython",
    "version": 3
   },
   "file_extension": ".py",
   "mimetype": "text/x-python",
   "name": "python",
   "nbconvert_exporter": "python",
   "pygments_lexer": "ipython3",
   "version": "3.12.8"
  }
 },
 "nbformat": 4,
 "nbformat_minor": 2
}
